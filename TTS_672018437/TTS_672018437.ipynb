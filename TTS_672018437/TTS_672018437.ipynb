{
  "cells": [
    {
      "cell_type": "markdown",
      "metadata": {
        "id": "Ypvu1UPjV5om"
      },
      "source": [
        "# **Petunjuk TTS**\n",
        "\n",
        "Silakan simpan file ke dalam bentuk **TTS_NIM.ipynb**. Tuliskan koding untuk dapat menampilkan hasil seperti yang diminta. Setelah selesai mengerjakan, silakan unggah ke GClass. Jangan sampai terlambat ya...keterlambatan mengakibatkan pengurangan nilai TTS.\n",
        "\n",
        "Have fun!"
      ]
    },
    {
      "cell_type": "code",
      "execution_count": 1,
      "metadata": {},
      "outputs": [
        {
          "name": "stdout",
          "output_type": "stream",
          "text": [
            "Collecting missingno\n",
            "  Downloading missingno-0.5.1-py3-none-any.whl (8.7 kB)\n",
            "Requirement already satisfied: seaborn in c:\\users\\aryag\\appdata\\local\\programs\\python\\python310\\lib\\site-packages (from missingno) (0.11.2)\n",
            "Requirement already satisfied: numpy in c:\\users\\aryag\\appdata\\local\\programs\\python\\python310\\lib\\site-packages (from missingno) (1.22.3)\n",
            "Requirement already satisfied: matplotlib in c:\\users\\aryag\\appdata\\local\\programs\\python\\python310\\lib\\site-packages (from missingno) (3.5.1)\n",
            "Requirement already satisfied: scipy in c:\\users\\aryag\\appdata\\local\\programs\\python\\python310\\lib\\site-packages (from missingno) (1.8.0)\n",
            "Requirement already satisfied: kiwisolver>=1.0.1 in c:\\users\\aryag\\appdata\\local\\programs\\python\\python310\\lib\\site-packages (from matplotlib->missingno) (1.4.0)\n",
            "Requirement already satisfied: pyparsing>=2.2.1 in c:\\users\\aryag\\appdata\\roaming\\python\\python310\\site-packages (from matplotlib->missingno) (3.0.7)\n",
            "Requirement already satisfied: fonttools>=4.22.0 in c:\\users\\aryag\\appdata\\local\\programs\\python\\python310\\lib\\site-packages (from matplotlib->missingno) (4.30.0)\n",
            "Requirement already satisfied: python-dateutil>=2.7 in c:\\users\\aryag\\appdata\\roaming\\python\\python310\\site-packages (from matplotlib->missingno) (2.8.2)\n",
            "Requirement already satisfied: cycler>=0.10 in c:\\users\\aryag\\appdata\\local\\programs\\python\\python310\\lib\\site-packages (from matplotlib->missingno) (0.11.0)\n",
            "Requirement already satisfied: packaging>=20.0 in c:\\users\\aryag\\appdata\\roaming\\python\\python310\\site-packages (from matplotlib->missingno) (21.3)\n",
            "Requirement already satisfied: pillow>=6.2.0 in c:\\users\\aryag\\appdata\\local\\programs\\python\\python310\\lib\\site-packages (from matplotlib->missingno) (9.0.1)\n",
            "Requirement already satisfied: six>=1.5 in c:\\users\\aryag\\appdata\\roaming\\python\\python310\\site-packages (from python-dateutil>=2.7->matplotlib->missingno) (1.16.0)\n",
            "Requirement already satisfied: pandas>=0.23 in c:\\users\\aryag\\appdata\\local\\programs\\python\\python310\\lib\\site-packages (from seaborn->missingno) (1.4.1)\n",
            "Requirement already satisfied: pytz>=2020.1 in c:\\users\\aryag\\appdata\\local\\programs\\python\\python310\\lib\\site-packages (from pandas>=0.23->seaborn->missingno) (2021.3)\n",
            "Installing collected packages: missingno\n",
            "Successfully installed missingno-0.5.1\n",
            "Note: you may need to restart the kernel to use updated packages.\n"
          ]
        },
        {
          "name": "stderr",
          "output_type": "stream",
          "text": [
            "WARNING: You are using pip version 21.2.4; however, version 22.0.4 is available.\n",
            "You should consider upgrading via the 'C:\\Users\\aryag\\AppData\\Local\\Programs\\Python\\Python310\\python.exe -m pip install --upgrade pip' command.\n"
          ]
        }
      ],
      "source": [
        "pip install missingno\n"
      ]
    },
    {
      "cell_type": "markdown",
      "metadata": {
        "id": "IoFuMCW8F-44"
      },
      "source": [
        "### **1. Import Libraries**"
      ]
    },
    {
      "cell_type": "code",
      "execution_count": 40,
      "metadata": {
        "id": "CYwVqp1MFwpB"
      },
      "outputs": [],
      "source": [
        "# Silakan import librari yang kalian butuhkan (pandas, numpy, matplotlib, seaborn, dan missingno)\n",
        "import pandas as pd\n",
        "import numpy as np\n",
        "import matplotlib.pyplot as plt\n",
        "import seaborn as sns\n",
        "import missingno as ms"
      ]
    },
    {
      "cell_type": "code",
      "execution_count": 6,
      "metadata": {
        "id": "cnLXMZLUNZln"
      },
      "outputs": [],
      "source": [
        "# Ambil dataset dari (https://github.com/adelnehme/python-for-spreadsheet-users-webinar/blob/master/datasets/airbnb.csv?raw=true) dan simpan dengan nama variabel data\n",
        "data = pd.read_csv ('https://github.com/adelnehme/python-for-spreadsheet-users-webinar/blob/master/datasets/airbnb.csv?raw=true',index_col= 'Unnamed: 0')"
      ]
    },
    {
      "cell_type": "code",
      "execution_count": 7,
      "metadata": {
        "colab": {
          "base_uri": "https://localhost:8080/",
          "height": 531
        },
        "id": "QBdiE3MBNgio",
        "outputId": "f020f93d-07af-46d4-c767-e0b329b53c84"
      },
      "outputs": [
        {
          "data": {
            "text/html": [
              "<div>\n",
              "<style scoped>\n",
              "    .dataframe tbody tr th:only-of-type {\n",
              "        vertical-align: middle;\n",
              "    }\n",
              "\n",
              "    .dataframe tbody tr th {\n",
              "        vertical-align: top;\n",
              "    }\n",
              "\n",
              "    .dataframe thead th {\n",
              "        text-align: right;\n",
              "    }\n",
              "</style>\n",
              "<table border=\"1\" class=\"dataframe\">\n",
              "  <thead>\n",
              "    <tr style=\"text-align: right;\">\n",
              "      <th></th>\n",
              "      <th>listing_id</th>\n",
              "      <th>name</th>\n",
              "      <th>host_id</th>\n",
              "      <th>host_name</th>\n",
              "      <th>neighbourhood_full</th>\n",
              "      <th>coordinates</th>\n",
              "      <th>room_type</th>\n",
              "      <th>price</th>\n",
              "      <th>number_of_reviews</th>\n",
              "      <th>last_review</th>\n",
              "      <th>reviews_per_month</th>\n",
              "      <th>availability_365</th>\n",
              "      <th>rating</th>\n",
              "      <th>number_of_stays</th>\n",
              "      <th>5_stars</th>\n",
              "      <th>listing_added</th>\n",
              "    </tr>\n",
              "  </thead>\n",
              "  <tbody>\n",
              "    <tr>\n",
              "      <th>0</th>\n",
              "      <td>13740704</td>\n",
              "      <td>Cozy,budget friendly, cable inc, private entra...</td>\n",
              "      <td>20583125</td>\n",
              "      <td>Michel</td>\n",
              "      <td>Brooklyn, Flatlands</td>\n",
              "      <td>(40.63222, -73.93398)</td>\n",
              "      <td>Private room</td>\n",
              "      <td>45$</td>\n",
              "      <td>10</td>\n",
              "      <td>2018-12-12</td>\n",
              "      <td>0.70</td>\n",
              "      <td>85</td>\n",
              "      <td>4.100954</td>\n",
              "      <td>12.0</td>\n",
              "      <td>0.609432</td>\n",
              "      <td>2018-06-08</td>\n",
              "    </tr>\n",
              "    <tr>\n",
              "      <th>1</th>\n",
              "      <td>22005115</td>\n",
              "      <td>Two floor apartment near Central Park</td>\n",
              "      <td>82746113</td>\n",
              "      <td>Cecilia</td>\n",
              "      <td>Manhattan, Upper West Side</td>\n",
              "      <td>(40.78761, -73.96862)</td>\n",
              "      <td>Entire home/apt</td>\n",
              "      <td>135$</td>\n",
              "      <td>1</td>\n",
              "      <td>2019-06-30</td>\n",
              "      <td>1.00</td>\n",
              "      <td>145</td>\n",
              "      <td>3.367600</td>\n",
              "      <td>1.2</td>\n",
              "      <td>0.746135</td>\n",
              "      <td>2018-12-25</td>\n",
              "    </tr>\n",
              "    <tr>\n",
              "      <th>2</th>\n",
              "      <td>21667615</td>\n",
              "      <td>Beautiful 1BR in Brooklyn Heights</td>\n",
              "      <td>78251</td>\n",
              "      <td>Leslie</td>\n",
              "      <td>Brooklyn, Brooklyn Heights</td>\n",
              "      <td>(40.7007, -73.99517)</td>\n",
              "      <td>Entire home/apt</td>\n",
              "      <td>150$</td>\n",
              "      <td>0</td>\n",
              "      <td>NaN</td>\n",
              "      <td>NaN</td>\n",
              "      <td>65</td>\n",
              "      <td>NaN</td>\n",
              "      <td>NaN</td>\n",
              "      <td>NaN</td>\n",
              "      <td>2018-08-15</td>\n",
              "    </tr>\n",
              "    <tr>\n",
              "      <th>3</th>\n",
              "      <td>6425850</td>\n",
              "      <td>Spacious, charming studio</td>\n",
              "      <td>32715865</td>\n",
              "      <td>Yelena</td>\n",
              "      <td>Manhattan, Upper West Side</td>\n",
              "      <td>(40.79169, -73.97498)</td>\n",
              "      <td>Entire home/apt</td>\n",
              "      <td>86$</td>\n",
              "      <td>5</td>\n",
              "      <td>2017-09-23</td>\n",
              "      <td>0.13</td>\n",
              "      <td>0</td>\n",
              "      <td>4.763203</td>\n",
              "      <td>6.0</td>\n",
              "      <td>0.769947</td>\n",
              "      <td>2017-03-20</td>\n",
              "    </tr>\n",
              "    <tr>\n",
              "      <th>4</th>\n",
              "      <td>22986519</td>\n",
              "      <td>Bedroom on the lively Lower East Side</td>\n",
              "      <td>154262349</td>\n",
              "      <td>Brooke</td>\n",
              "      <td>Manhattan, Lower East Side</td>\n",
              "      <td>(40.71884, -73.98354)</td>\n",
              "      <td>Private room</td>\n",
              "      <td>160$</td>\n",
              "      <td>23</td>\n",
              "      <td>2019-06-12</td>\n",
              "      <td>2.29</td>\n",
              "      <td>102</td>\n",
              "      <td>3.822591</td>\n",
              "      <td>27.6</td>\n",
              "      <td>0.649383</td>\n",
              "      <td>2020-10-23</td>\n",
              "    </tr>\n",
              "  </tbody>\n",
              "</table>\n",
              "</div>"
            ],
            "text/plain": [
              "   listing_id                                               name    host_id  \\\n",
              "0    13740704  Cozy,budget friendly, cable inc, private entra...   20583125   \n",
              "1    22005115              Two floor apartment near Central Park   82746113   \n",
              "2    21667615                  Beautiful 1BR in Brooklyn Heights      78251   \n",
              "3     6425850                          Spacious, charming studio   32715865   \n",
              "4    22986519              Bedroom on the lively Lower East Side  154262349   \n",
              "\n",
              "  host_name          neighbourhood_full            coordinates  \\\n",
              "0    Michel         Brooklyn, Flatlands  (40.63222, -73.93398)   \n",
              "1   Cecilia  Manhattan, Upper West Side  (40.78761, -73.96862)   \n",
              "2    Leslie  Brooklyn, Brooklyn Heights   (40.7007, -73.99517)   \n",
              "3    Yelena  Manhattan, Upper West Side  (40.79169, -73.97498)   \n",
              "4    Brooke  Manhattan, Lower East Side  (40.71884, -73.98354)   \n",
              "\n",
              "         room_type price  number_of_reviews last_review  reviews_per_month  \\\n",
              "0     Private room   45$                 10  2018-12-12               0.70   \n",
              "1  Entire home/apt  135$                  1  2019-06-30               1.00   \n",
              "2  Entire home/apt  150$                  0         NaN                NaN   \n",
              "3  Entire home/apt   86$                  5  2017-09-23               0.13   \n",
              "4     Private room  160$                 23  2019-06-12               2.29   \n",
              "\n",
              "   availability_365    rating  number_of_stays   5_stars listing_added  \n",
              "0                85  4.100954             12.0  0.609432    2018-06-08  \n",
              "1               145  3.367600              1.2  0.746135    2018-12-25  \n",
              "2                65       NaN              NaN       NaN    2018-08-15  \n",
              "3                 0  4.763203              6.0  0.769947    2017-03-20  \n",
              "4               102  3.822591             27.6  0.649383    2020-10-23  "
            ]
          },
          "execution_count": 7,
          "metadata": {},
          "output_type": "execute_result"
        }
      ],
      "source": [
        "# Lihat 5 data teratas pada DataFrame \"data\"\n",
        "data.head()"
      ]
    },
    {
      "cell_type": "code",
      "execution_count": 11,
      "metadata": {
        "colab": {
          "base_uri": "https://localhost:8080/"
        },
        "id": "BNE2SaGvNra3",
        "outputId": "5652c5eb-efe7-45d4-a19e-ba9892dc0e07"
      },
      "outputs": [
        {
          "data": {
            "text/plain": [
              "listing_id              int64\n",
              "name                   object\n",
              "host_id                 int64\n",
              "host_name              object\n",
              "neighbourhood_full     object\n",
              "coordinates            object\n",
              "room_type              object\n",
              "price                  object\n",
              "number_of_reviews       int64\n",
              "last_review            object\n",
              "reviews_per_month     float64\n",
              "availability_365        int64\n",
              "rating                float64\n",
              "number_of_stays       float64\n",
              "5_stars               float64\n",
              "listing_added          object\n",
              "dtype: object"
            ]
          },
          "execution_count": 11,
          "metadata": {},
          "output_type": "execute_result"
        }
      ],
      "source": [
        "# Cek tipe data dalam \"data\"\n",
        "data.dtypes"
      ]
    },
    {
      "cell_type": "markdown",
      "metadata": {
        "id": "Tbe-8a0PQLt9"
      },
      "source": [
        "### **2. Membersihkan Data**"
      ]
    },
    {
      "cell_type": "markdown",
      "metadata": {
        "id": "E-3UvLG3QSuU"
      },
      "source": [
        "**Challenge 1**: Ganti `coordinates` dengan kolom `latitude` dan `longitude`"
      ]
    },
    {
      "cell_type": "code",
      "execution_count": 16,
      "metadata": {
        "colab": {
          "base_uri": "https://localhost:8080/"
        },
        "id": "MzyrK_11P1i3",
        "outputId": "c93bab4b-8f01-4263-c44d-4a3d3f9022d8"
      },
      "outputs": [
        {
          "name": "stderr",
          "output_type": "stream",
          "text": [
            "C:\\Users\\aryag\\AppData\\Local\\Temp\\ipykernel_3976\\1181652019.py:2: FutureWarning: The default value of regex will change from True to False in a future version. In addition, single character regular expressions will *not* be treated as literal strings when regex=True.\n",
            "  data['coordinates'] = data['coordinates'].str.replace('(','')\n",
            "C:\\Users\\aryag\\AppData\\Local\\Temp\\ipykernel_3976\\1181652019.py:4: FutureWarning: The default value of regex will change from True to False in a future version. In addition, single character regular expressions will *not* be treated as literal strings when regex=True.\n",
            "  data['coordinates'] = data['coordinates'].str.replace(')','')\n"
          ]
        }
      ],
      "source": [
        "# Hapus tanda \"(\" dan \")\" dari kolom coordinates\n",
        "data['coordinates'] = data['coordinates'].str.replace('(','')\n",
        "\n",
        "data['coordinates'] = data['coordinates'].str.replace(')','')"
      ]
    },
    {
      "cell_type": "code",
      "execution_count": 17,
      "metadata": {
        "colab": {
          "base_uri": "https://localhost:8080/"
        },
        "id": "1shmvP0-Yep9",
        "outputId": "86f1c4a1-aa75-43eb-9504-141e226cab65"
      },
      "outputs": [
        {
          "data": {
            "text/plain": [
              "0    40.63222, -73.93398\n",
              "1    40.78761, -73.96862\n",
              "2     40.7007, -73.99517\n",
              "3    40.79169, -73.97498\n",
              "4    40.71884, -73.98354\n",
              "Name: coordinates, dtype: object"
            ]
          },
          "execution_count": 17,
          "metadata": {},
          "output_type": "execute_result"
        }
      ],
      "source": [
        "# Cetak 5 data paling atas dari kolom coordinates\n",
        "data['coordinates'].head()"
      ]
    },
    {
      "cell_type": "code",
      "execution_count": 22,
      "metadata": {
        "colab": {
          "base_uri": "https://localhost:8080/",
          "height": 206
        },
        "id": "s2fRuKGIQxkm",
        "outputId": "3c7250ac-ccf2-4cef-a472-546b9c254809"
      },
      "outputs": [
        {
          "data": {
            "text/html": [
              "<div>\n",
              "<style scoped>\n",
              "    .dataframe tbody tr th:only-of-type {\n",
              "        vertical-align: middle;\n",
              "    }\n",
              "\n",
              "    .dataframe tbody tr th {\n",
              "        vertical-align: top;\n",
              "    }\n",
              "\n",
              "    .dataframe thead th {\n",
              "        text-align: right;\n",
              "    }\n",
              "</style>\n",
              "<table border=\"1\" class=\"dataframe\">\n",
              "  <thead>\n",
              "    <tr style=\"text-align: right;\">\n",
              "      <th></th>\n",
              "      <th>0</th>\n",
              "      <th>1</th>\n",
              "    </tr>\n",
              "  </thead>\n",
              "  <tbody>\n",
              "    <tr>\n",
              "      <th>0</th>\n",
              "      <td>40.63222</td>\n",
              "      <td>-73.93398</td>\n",
              "    </tr>\n",
              "    <tr>\n",
              "      <th>1</th>\n",
              "      <td>40.78761</td>\n",
              "      <td>-73.96862</td>\n",
              "    </tr>\n",
              "    <tr>\n",
              "      <th>2</th>\n",
              "      <td>40.7007</td>\n",
              "      <td>-73.99517</td>\n",
              "    </tr>\n",
              "    <tr>\n",
              "      <th>3</th>\n",
              "      <td>40.79169</td>\n",
              "      <td>-73.97498</td>\n",
              "    </tr>\n",
              "    <tr>\n",
              "      <th>4</th>\n",
              "      <td>40.71884</td>\n",
              "      <td>-73.98354</td>\n",
              "    </tr>\n",
              "  </tbody>\n",
              "</table>\n",
              "</div>"
            ],
            "text/plain": [
              "          0           1\n",
              "0  40.63222   -73.93398\n",
              "1  40.78761   -73.96862\n",
              "2   40.7007   -73.99517\n",
              "3  40.79169   -73.97498\n",
              "4  40.71884   -73.98354"
            ]
          },
          "execution_count": 22,
          "metadata": {},
          "output_type": "execute_result"
        }
      ],
      "source": [
        "# Lakukan split data di kolom coordinates, beri nama lat_long\n",
        "lat_long = data['coordinates'].str.split(',', expand= True)\n",
        "lat_long.head()"
      ]
    },
    {
      "cell_type": "code",
      "execution_count": 23,
      "metadata": {
        "id": "kQNz2paZQ1Sb"
      },
      "outputs": [],
      "source": [
        "# Buat supaya latitude berisi nilai lat_long[0] dan longitude berisi nilai lat_long[1]\n",
        "data['latitude'] = lat_long[0]\n",
        "data['longtitude'] = lat_long[1]"
      ]
    },
    {
      "cell_type": "code",
      "execution_count": 24,
      "metadata": {
        "colab": {
          "base_uri": "https://localhost:8080/",
          "height": 531
        },
        "id": "E9yV57NFZb-g",
        "outputId": "0f8ea3d1-d811-449c-af8b-bbdaeddee2f2"
      },
      "outputs": [
        {
          "data": {
            "text/html": [
              "<div>\n",
              "<style scoped>\n",
              "    .dataframe tbody tr th:only-of-type {\n",
              "        vertical-align: middle;\n",
              "    }\n",
              "\n",
              "    .dataframe tbody tr th {\n",
              "        vertical-align: top;\n",
              "    }\n",
              "\n",
              "    .dataframe thead th {\n",
              "        text-align: right;\n",
              "    }\n",
              "</style>\n",
              "<table border=\"1\" class=\"dataframe\">\n",
              "  <thead>\n",
              "    <tr style=\"text-align: right;\">\n",
              "      <th></th>\n",
              "      <th>listing_id</th>\n",
              "      <th>name</th>\n",
              "      <th>host_id</th>\n",
              "      <th>host_name</th>\n",
              "      <th>neighbourhood_full</th>\n",
              "      <th>coordinates</th>\n",
              "      <th>room_type</th>\n",
              "      <th>price</th>\n",
              "      <th>number_of_reviews</th>\n",
              "      <th>last_review</th>\n",
              "      <th>reviews_per_month</th>\n",
              "      <th>availability_365</th>\n",
              "      <th>rating</th>\n",
              "      <th>number_of_stays</th>\n",
              "      <th>5_stars</th>\n",
              "      <th>listing_added</th>\n",
              "      <th>latitude</th>\n",
              "      <th>longtitude</th>\n",
              "    </tr>\n",
              "  </thead>\n",
              "  <tbody>\n",
              "    <tr>\n",
              "      <th>0</th>\n",
              "      <td>13740704</td>\n",
              "      <td>Cozy,budget friendly, cable inc, private entra...</td>\n",
              "      <td>20583125</td>\n",
              "      <td>Michel</td>\n",
              "      <td>Brooklyn, Flatlands</td>\n",
              "      <td>40.63222, -73.93398</td>\n",
              "      <td>Private room</td>\n",
              "      <td>45$</td>\n",
              "      <td>10</td>\n",
              "      <td>2018-12-12</td>\n",
              "      <td>0.70</td>\n",
              "      <td>85</td>\n",
              "      <td>4.100954</td>\n",
              "      <td>12.0</td>\n",
              "      <td>0.609432</td>\n",
              "      <td>2018-06-08</td>\n",
              "      <td>40.63222</td>\n",
              "      <td>-73.93398</td>\n",
              "    </tr>\n",
              "    <tr>\n",
              "      <th>1</th>\n",
              "      <td>22005115</td>\n",
              "      <td>Two floor apartment near Central Park</td>\n",
              "      <td>82746113</td>\n",
              "      <td>Cecilia</td>\n",
              "      <td>Manhattan, Upper West Side</td>\n",
              "      <td>40.78761, -73.96862</td>\n",
              "      <td>Entire home/apt</td>\n",
              "      <td>135$</td>\n",
              "      <td>1</td>\n",
              "      <td>2019-06-30</td>\n",
              "      <td>1.00</td>\n",
              "      <td>145</td>\n",
              "      <td>3.367600</td>\n",
              "      <td>1.2</td>\n",
              "      <td>0.746135</td>\n",
              "      <td>2018-12-25</td>\n",
              "      <td>40.78761</td>\n",
              "      <td>-73.96862</td>\n",
              "    </tr>\n",
              "    <tr>\n",
              "      <th>2</th>\n",
              "      <td>21667615</td>\n",
              "      <td>Beautiful 1BR in Brooklyn Heights</td>\n",
              "      <td>78251</td>\n",
              "      <td>Leslie</td>\n",
              "      <td>Brooklyn, Brooklyn Heights</td>\n",
              "      <td>40.7007, -73.99517</td>\n",
              "      <td>Entire home/apt</td>\n",
              "      <td>150$</td>\n",
              "      <td>0</td>\n",
              "      <td>NaN</td>\n",
              "      <td>NaN</td>\n",
              "      <td>65</td>\n",
              "      <td>NaN</td>\n",
              "      <td>NaN</td>\n",
              "      <td>NaN</td>\n",
              "      <td>2018-08-15</td>\n",
              "      <td>40.7007</td>\n",
              "      <td>-73.99517</td>\n",
              "    </tr>\n",
              "    <tr>\n",
              "      <th>3</th>\n",
              "      <td>6425850</td>\n",
              "      <td>Spacious, charming studio</td>\n",
              "      <td>32715865</td>\n",
              "      <td>Yelena</td>\n",
              "      <td>Manhattan, Upper West Side</td>\n",
              "      <td>40.79169, -73.97498</td>\n",
              "      <td>Entire home/apt</td>\n",
              "      <td>86$</td>\n",
              "      <td>5</td>\n",
              "      <td>2017-09-23</td>\n",
              "      <td>0.13</td>\n",
              "      <td>0</td>\n",
              "      <td>4.763203</td>\n",
              "      <td>6.0</td>\n",
              "      <td>0.769947</td>\n",
              "      <td>2017-03-20</td>\n",
              "      <td>40.79169</td>\n",
              "      <td>-73.97498</td>\n",
              "    </tr>\n",
              "    <tr>\n",
              "      <th>4</th>\n",
              "      <td>22986519</td>\n",
              "      <td>Bedroom on the lively Lower East Side</td>\n",
              "      <td>154262349</td>\n",
              "      <td>Brooke</td>\n",
              "      <td>Manhattan, Lower East Side</td>\n",
              "      <td>40.71884, -73.98354</td>\n",
              "      <td>Private room</td>\n",
              "      <td>160$</td>\n",
              "      <td>23</td>\n",
              "      <td>2019-06-12</td>\n",
              "      <td>2.29</td>\n",
              "      <td>102</td>\n",
              "      <td>3.822591</td>\n",
              "      <td>27.6</td>\n",
              "      <td>0.649383</td>\n",
              "      <td>2020-10-23</td>\n",
              "      <td>40.71884</td>\n",
              "      <td>-73.98354</td>\n",
              "    </tr>\n",
              "  </tbody>\n",
              "</table>\n",
              "</div>"
            ],
            "text/plain": [
              "   listing_id                                               name    host_id  \\\n",
              "0    13740704  Cozy,budget friendly, cable inc, private entra...   20583125   \n",
              "1    22005115              Two floor apartment near Central Park   82746113   \n",
              "2    21667615                  Beautiful 1BR in Brooklyn Heights      78251   \n",
              "3     6425850                          Spacious, charming studio   32715865   \n",
              "4    22986519              Bedroom on the lively Lower East Side  154262349   \n",
              "\n",
              "  host_name          neighbourhood_full          coordinates        room_type  \\\n",
              "0    Michel         Brooklyn, Flatlands  40.63222, -73.93398     Private room   \n",
              "1   Cecilia  Manhattan, Upper West Side  40.78761, -73.96862  Entire home/apt   \n",
              "2    Leslie  Brooklyn, Brooklyn Heights   40.7007, -73.99517  Entire home/apt   \n",
              "3    Yelena  Manhattan, Upper West Side  40.79169, -73.97498  Entire home/apt   \n",
              "4    Brooke  Manhattan, Lower East Side  40.71884, -73.98354     Private room   \n",
              "\n",
              "  price  number_of_reviews last_review  reviews_per_month  availability_365  \\\n",
              "0   45$                 10  2018-12-12               0.70                85   \n",
              "1  135$                  1  2019-06-30               1.00               145   \n",
              "2  150$                  0         NaN                NaN                65   \n",
              "3   86$                  5  2017-09-23               0.13                 0   \n",
              "4  160$                 23  2019-06-12               2.29               102   \n",
              "\n",
              "     rating  number_of_stays   5_stars listing_added  latitude  longtitude  \n",
              "0  4.100954             12.0  0.609432    2018-06-08  40.63222   -73.93398  \n",
              "1  3.367600              1.2  0.746135    2018-12-25  40.78761   -73.96862  \n",
              "2       NaN              NaN       NaN    2018-08-15   40.7007   -73.99517  \n",
              "3  4.763203              6.0  0.769947    2017-03-20  40.79169   -73.97498  \n",
              "4  3.822591             27.6  0.649383    2020-10-23  40.71884   -73.98354  "
            ]
          },
          "execution_count": 24,
          "metadata": {},
          "output_type": "execute_result"
        }
      ],
      "source": [
        "# Cetak data\n",
        "data.head()"
      ]
    },
    {
      "cell_type": "code",
      "execution_count": 27,
      "metadata": {
        "id": "C0zGpOgLQ8rX"
      },
      "outputs": [],
      "source": [
        "# Konversi nilai latitude dan longitude menjadi FLOAT\n",
        "data['latitude'] = data['latitude'].astype('float')\n",
        "data['longtitude'] = data['longtitude'].astype('float')"
      ]
    },
    {
      "cell_type": "code",
      "execution_count": 28,
      "metadata": {
        "colab": {
          "base_uri": "https://localhost:8080/"
        },
        "id": "ebEpDC77ZuTu",
        "outputId": "7c687e10-d6a0-4efd-d8f7-20e5da639ee9"
      },
      "outputs": [
        {
          "data": {
            "text/plain": [
              "listing_id              int64\n",
              "name                   object\n",
              "host_id                 int64\n",
              "host_name              object\n",
              "neighbourhood_full     object\n",
              "coordinates            object\n",
              "room_type              object\n",
              "price                  object\n",
              "number_of_reviews       int64\n",
              "last_review            object\n",
              "reviews_per_month     float64\n",
              "availability_365        int64\n",
              "rating                float64\n",
              "number_of_stays       float64\n",
              "5_stars               float64\n",
              "listing_added          object\n",
              "latitude              float64\n",
              "longtitude            float64\n",
              "dtype: object"
            ]
          },
          "execution_count": 28,
          "metadata": {},
          "output_type": "execute_result"
        }
      ],
      "source": [
        "# Cek tipe data sekali lagi\n",
        "data.dtypes"
      ]
    },
    {
      "cell_type": "code",
      "execution_count": 30,
      "metadata": {
        "id": "r7D3PugDRC-s"
      },
      "outputs": [
        {
          "ename": "KeyError",
          "evalue": "\"['coordinates'] not found in axis\"",
          "output_type": "error",
          "traceback": [
            "\u001b[1;31m---------------------------------------------------------------------------\u001b[0m",
            "\u001b[1;31mKeyError\u001b[0m                                  Traceback (most recent call last)",
            "\u001b[1;32me:\\GANDHI\\MDS\\Metodologi-Data-Science\\TTS_672018437\\TTS_672018437.ipynb Cell 16'\u001b[0m in \u001b[0;36m<cell line: 2>\u001b[1;34m()\u001b[0m\n\u001b[0;32m      <a href='vscode-notebook-cell:/e%3A/GANDHI/MDS/Metodologi-Data-Science/TTS_672018437/TTS_672018437.ipynb#ch0000015?line=0'>1</a>\u001b[0m \u001b[39m# Hapus kolom coordinates\u001b[39;00m\n\u001b[1;32m----> <a href='vscode-notebook-cell:/e%3A/GANDHI/MDS/Metodologi-Data-Science/TTS_672018437/TTS_672018437.ipynb#ch0000015?line=1'>2</a>\u001b[0m data\u001b[39m.\u001b[39;49mdrop(\u001b[39m'\u001b[39;49m\u001b[39mcoordinates\u001b[39;49m\u001b[39m'\u001b[39;49m,inplace\u001b[39m=\u001b[39;49m\u001b[39mTrue\u001b[39;49;00m, axis\u001b[39m=\u001b[39;49m\u001b[39m1\u001b[39;49m)\n\u001b[0;32m      <a href='vscode-notebook-cell:/e%3A/GANDHI/MDS/Metodologi-Data-Science/TTS_672018437/TTS_672018437.ipynb#ch0000015?line=2'>3</a>\u001b[0m data\u001b[39m.\u001b[39mhead()\n",
            "File \u001b[1;32m~\\AppData\\Local\\Programs\\Python\\Python310\\lib\\site-packages\\pandas\\util\\_decorators.py:311\u001b[0m, in \u001b[0;36mdeprecate_nonkeyword_arguments.<locals>.decorate.<locals>.wrapper\u001b[1;34m(*args, **kwargs)\u001b[0m\n\u001b[0;32m    <a href='file:///c%3A/Users/aryag/AppData/Local/Programs/Python/Python310/lib/site-packages/pandas/util/_decorators.py?line=304'>305</a>\u001b[0m \u001b[39mif\u001b[39;00m \u001b[39mlen\u001b[39m(args) \u001b[39m>\u001b[39m num_allow_args:\n\u001b[0;32m    <a href='file:///c%3A/Users/aryag/AppData/Local/Programs/Python/Python310/lib/site-packages/pandas/util/_decorators.py?line=305'>306</a>\u001b[0m     warnings\u001b[39m.\u001b[39mwarn(\n\u001b[0;32m    <a href='file:///c%3A/Users/aryag/AppData/Local/Programs/Python/Python310/lib/site-packages/pandas/util/_decorators.py?line=306'>307</a>\u001b[0m         msg\u001b[39m.\u001b[39mformat(arguments\u001b[39m=\u001b[39marguments),\n\u001b[0;32m    <a href='file:///c%3A/Users/aryag/AppData/Local/Programs/Python/Python310/lib/site-packages/pandas/util/_decorators.py?line=307'>308</a>\u001b[0m         \u001b[39mFutureWarning\u001b[39;00m,\n\u001b[0;32m    <a href='file:///c%3A/Users/aryag/AppData/Local/Programs/Python/Python310/lib/site-packages/pandas/util/_decorators.py?line=308'>309</a>\u001b[0m         stacklevel\u001b[39m=\u001b[39mstacklevel,\n\u001b[0;32m    <a href='file:///c%3A/Users/aryag/AppData/Local/Programs/Python/Python310/lib/site-packages/pandas/util/_decorators.py?line=309'>310</a>\u001b[0m     )\n\u001b[1;32m--> <a href='file:///c%3A/Users/aryag/AppData/Local/Programs/Python/Python310/lib/site-packages/pandas/util/_decorators.py?line=310'>311</a>\u001b[0m \u001b[39mreturn\u001b[39;00m func(\u001b[39m*\u001b[39margs, \u001b[39m*\u001b[39m\u001b[39m*\u001b[39mkwargs)\n",
            "File \u001b[1;32m~\\AppData\\Local\\Programs\\Python\\Python310\\lib\\site-packages\\pandas\\core\\frame.py:4948\u001b[0m, in \u001b[0;36mDataFrame.drop\u001b[1;34m(self, labels, axis, index, columns, level, inplace, errors)\u001b[0m\n\u001b[0;32m   <a href='file:///c%3A/Users/aryag/AppData/Local/Programs/Python/Python310/lib/site-packages/pandas/core/frame.py?line=4799'>4800</a>\u001b[0m \u001b[39m@deprecate_nonkeyword_arguments\u001b[39m(version\u001b[39m=\u001b[39m\u001b[39mNone\u001b[39;00m, allowed_args\u001b[39m=\u001b[39m[\u001b[39m\"\u001b[39m\u001b[39mself\u001b[39m\u001b[39m\"\u001b[39m, \u001b[39m\"\u001b[39m\u001b[39mlabels\u001b[39m\u001b[39m\"\u001b[39m])\n\u001b[0;32m   <a href='file:///c%3A/Users/aryag/AppData/Local/Programs/Python/Python310/lib/site-packages/pandas/core/frame.py?line=4800'>4801</a>\u001b[0m \u001b[39mdef\u001b[39;00m \u001b[39mdrop\u001b[39m(\n\u001b[0;32m   <a href='file:///c%3A/Users/aryag/AppData/Local/Programs/Python/Python310/lib/site-packages/pandas/core/frame.py?line=4801'>4802</a>\u001b[0m     \u001b[39mself\u001b[39m,\n\u001b[1;32m   (...)\u001b[0m\n\u001b[0;32m   <a href='file:///c%3A/Users/aryag/AppData/Local/Programs/Python/Python310/lib/site-packages/pandas/core/frame.py?line=4808'>4809</a>\u001b[0m     errors: \u001b[39mstr\u001b[39m \u001b[39m=\u001b[39m \u001b[39m\"\u001b[39m\u001b[39mraise\u001b[39m\u001b[39m\"\u001b[39m,\n\u001b[0;32m   <a href='file:///c%3A/Users/aryag/AppData/Local/Programs/Python/Python310/lib/site-packages/pandas/core/frame.py?line=4809'>4810</a>\u001b[0m ):\n\u001b[0;32m   <a href='file:///c%3A/Users/aryag/AppData/Local/Programs/Python/Python310/lib/site-packages/pandas/core/frame.py?line=4810'>4811</a>\u001b[0m     \u001b[39m\"\"\"\u001b[39;00m\n\u001b[0;32m   <a href='file:///c%3A/Users/aryag/AppData/Local/Programs/Python/Python310/lib/site-packages/pandas/core/frame.py?line=4811'>4812</a>\u001b[0m \u001b[39m    Drop specified labels from rows or columns.\u001b[39;00m\n\u001b[0;32m   <a href='file:///c%3A/Users/aryag/AppData/Local/Programs/Python/Python310/lib/site-packages/pandas/core/frame.py?line=4812'>4813</a>\u001b[0m \n\u001b[1;32m   (...)\u001b[0m\n\u001b[0;32m   <a href='file:///c%3A/Users/aryag/AppData/Local/Programs/Python/Python310/lib/site-packages/pandas/core/frame.py?line=4945'>4946</a>\u001b[0m \u001b[39m            weight  1.0     0.8\u001b[39;00m\n\u001b[0;32m   <a href='file:///c%3A/Users/aryag/AppData/Local/Programs/Python/Python310/lib/site-packages/pandas/core/frame.py?line=4946'>4947</a>\u001b[0m \u001b[39m    \"\"\"\u001b[39;00m\n\u001b[1;32m-> <a href='file:///c%3A/Users/aryag/AppData/Local/Programs/Python/Python310/lib/site-packages/pandas/core/frame.py?line=4947'>4948</a>\u001b[0m     \u001b[39mreturn\u001b[39;00m \u001b[39msuper\u001b[39;49m()\u001b[39m.\u001b[39;49mdrop(\n\u001b[0;32m   <a href='file:///c%3A/Users/aryag/AppData/Local/Programs/Python/Python310/lib/site-packages/pandas/core/frame.py?line=4948'>4949</a>\u001b[0m         labels\u001b[39m=\u001b[39;49mlabels,\n\u001b[0;32m   <a href='file:///c%3A/Users/aryag/AppData/Local/Programs/Python/Python310/lib/site-packages/pandas/core/frame.py?line=4949'>4950</a>\u001b[0m         axis\u001b[39m=\u001b[39;49maxis,\n\u001b[0;32m   <a href='file:///c%3A/Users/aryag/AppData/Local/Programs/Python/Python310/lib/site-packages/pandas/core/frame.py?line=4950'>4951</a>\u001b[0m         index\u001b[39m=\u001b[39;49mindex,\n\u001b[0;32m   <a href='file:///c%3A/Users/aryag/AppData/Local/Programs/Python/Python310/lib/site-packages/pandas/core/frame.py?line=4951'>4952</a>\u001b[0m         columns\u001b[39m=\u001b[39;49mcolumns,\n\u001b[0;32m   <a href='file:///c%3A/Users/aryag/AppData/Local/Programs/Python/Python310/lib/site-packages/pandas/core/frame.py?line=4952'>4953</a>\u001b[0m         level\u001b[39m=\u001b[39;49mlevel,\n\u001b[0;32m   <a href='file:///c%3A/Users/aryag/AppData/Local/Programs/Python/Python310/lib/site-packages/pandas/core/frame.py?line=4953'>4954</a>\u001b[0m         inplace\u001b[39m=\u001b[39;49minplace,\n\u001b[0;32m   <a href='file:///c%3A/Users/aryag/AppData/Local/Programs/Python/Python310/lib/site-packages/pandas/core/frame.py?line=4954'>4955</a>\u001b[0m         errors\u001b[39m=\u001b[39;49merrors,\n\u001b[0;32m   <a href='file:///c%3A/Users/aryag/AppData/Local/Programs/Python/Python310/lib/site-packages/pandas/core/frame.py?line=4955'>4956</a>\u001b[0m     )\n",
            "File \u001b[1;32m~\\AppData\\Local\\Programs\\Python\\Python310\\lib\\site-packages\\pandas\\core\\generic.py:4279\u001b[0m, in \u001b[0;36mNDFrame.drop\u001b[1;34m(self, labels, axis, index, columns, level, inplace, errors)\u001b[0m\n\u001b[0;32m   <a href='file:///c%3A/Users/aryag/AppData/Local/Programs/Python/Python310/lib/site-packages/pandas/core/generic.py?line=4276'>4277</a>\u001b[0m \u001b[39mfor\u001b[39;00m axis, labels \u001b[39min\u001b[39;00m axes\u001b[39m.\u001b[39mitems():\n\u001b[0;32m   <a href='file:///c%3A/Users/aryag/AppData/Local/Programs/Python/Python310/lib/site-packages/pandas/core/generic.py?line=4277'>4278</a>\u001b[0m     \u001b[39mif\u001b[39;00m labels \u001b[39mis\u001b[39;00m \u001b[39mnot\u001b[39;00m \u001b[39mNone\u001b[39;00m:\n\u001b[1;32m-> <a href='file:///c%3A/Users/aryag/AppData/Local/Programs/Python/Python310/lib/site-packages/pandas/core/generic.py?line=4278'>4279</a>\u001b[0m         obj \u001b[39m=\u001b[39m obj\u001b[39m.\u001b[39;49m_drop_axis(labels, axis, level\u001b[39m=\u001b[39;49mlevel, errors\u001b[39m=\u001b[39;49merrors)\n\u001b[0;32m   <a href='file:///c%3A/Users/aryag/AppData/Local/Programs/Python/Python310/lib/site-packages/pandas/core/generic.py?line=4280'>4281</a>\u001b[0m \u001b[39mif\u001b[39;00m inplace:\n\u001b[0;32m   <a href='file:///c%3A/Users/aryag/AppData/Local/Programs/Python/Python310/lib/site-packages/pandas/core/generic.py?line=4281'>4282</a>\u001b[0m     \u001b[39mself\u001b[39m\u001b[39m.\u001b[39m_update_inplace(obj)\n",
            "File \u001b[1;32m~\\AppData\\Local\\Programs\\Python\\Python310\\lib\\site-packages\\pandas\\core\\generic.py:4323\u001b[0m, in \u001b[0;36mNDFrame._drop_axis\u001b[1;34m(self, labels, axis, level, errors, consolidate, only_slice)\u001b[0m\n\u001b[0;32m   <a href='file:///c%3A/Users/aryag/AppData/Local/Programs/Python/Python310/lib/site-packages/pandas/core/generic.py?line=4320'>4321</a>\u001b[0m         new_axis \u001b[39m=\u001b[39m axis\u001b[39m.\u001b[39mdrop(labels, level\u001b[39m=\u001b[39mlevel, errors\u001b[39m=\u001b[39merrors)\n\u001b[0;32m   <a href='file:///c%3A/Users/aryag/AppData/Local/Programs/Python/Python310/lib/site-packages/pandas/core/generic.py?line=4321'>4322</a>\u001b[0m     \u001b[39melse\u001b[39;00m:\n\u001b[1;32m-> <a href='file:///c%3A/Users/aryag/AppData/Local/Programs/Python/Python310/lib/site-packages/pandas/core/generic.py?line=4322'>4323</a>\u001b[0m         new_axis \u001b[39m=\u001b[39m axis\u001b[39m.\u001b[39;49mdrop(labels, errors\u001b[39m=\u001b[39;49merrors)\n\u001b[0;32m   <a href='file:///c%3A/Users/aryag/AppData/Local/Programs/Python/Python310/lib/site-packages/pandas/core/generic.py?line=4323'>4324</a>\u001b[0m     indexer \u001b[39m=\u001b[39m axis\u001b[39m.\u001b[39mget_indexer(new_axis)\n\u001b[0;32m   <a href='file:///c%3A/Users/aryag/AppData/Local/Programs/Python/Python310/lib/site-packages/pandas/core/generic.py?line=4325'>4326</a>\u001b[0m \u001b[39m# Case for non-unique axis\u001b[39;00m\n\u001b[0;32m   <a href='file:///c%3A/Users/aryag/AppData/Local/Programs/Python/Python310/lib/site-packages/pandas/core/generic.py?line=4326'>4327</a>\u001b[0m \u001b[39melse\u001b[39;00m:\n",
            "File \u001b[1;32m~\\AppData\\Local\\Programs\\Python\\Python310\\lib\\site-packages\\pandas\\core\\indexes\\base.py:6644\u001b[0m, in \u001b[0;36mIndex.drop\u001b[1;34m(self, labels, errors)\u001b[0m\n\u001b[0;32m   <a href='file:///c%3A/Users/aryag/AppData/Local/Programs/Python/Python310/lib/site-packages/pandas/core/indexes/base.py?line=6641'>6642</a>\u001b[0m \u001b[39mif\u001b[39;00m mask\u001b[39m.\u001b[39many():\n\u001b[0;32m   <a href='file:///c%3A/Users/aryag/AppData/Local/Programs/Python/Python310/lib/site-packages/pandas/core/indexes/base.py?line=6642'>6643</a>\u001b[0m     \u001b[39mif\u001b[39;00m errors \u001b[39m!=\u001b[39m \u001b[39m\"\u001b[39m\u001b[39mignore\u001b[39m\u001b[39m\"\u001b[39m:\n\u001b[1;32m-> <a href='file:///c%3A/Users/aryag/AppData/Local/Programs/Python/Python310/lib/site-packages/pandas/core/indexes/base.py?line=6643'>6644</a>\u001b[0m         \u001b[39mraise\u001b[39;00m \u001b[39mKeyError\u001b[39;00m(\u001b[39mf\u001b[39m\u001b[39m\"\u001b[39m\u001b[39m{\u001b[39;00m\u001b[39mlist\u001b[39m(labels[mask])\u001b[39m}\u001b[39;00m\u001b[39m not found in axis\u001b[39m\u001b[39m\"\u001b[39m)\n\u001b[0;32m   <a href='file:///c%3A/Users/aryag/AppData/Local/Programs/Python/Python310/lib/site-packages/pandas/core/indexes/base.py?line=6644'>6645</a>\u001b[0m     indexer \u001b[39m=\u001b[39m indexer[\u001b[39m~\u001b[39mmask]\n\u001b[0;32m   <a href='file:///c%3A/Users/aryag/AppData/Local/Programs/Python/Python310/lib/site-packages/pandas/core/indexes/base.py?line=6645'>6646</a>\u001b[0m \u001b[39mreturn\u001b[39;00m \u001b[39mself\u001b[39m\u001b[39m.\u001b[39mdelete(indexer)\n",
            "\u001b[1;31mKeyError\u001b[0m: \"['coordinates'] not found in axis\""
          ]
        }
      ],
      "source": [
        "# Hapus kolom coordinates\n",
        "data.drop('coordinates',inplace=True, axis=1)"
      ]
    },
    {
      "cell_type": "code",
      "execution_count": 31,
      "metadata": {
        "colab": {
          "base_uri": "https://localhost:8080/",
          "height": 531
        },
        "id": "8d1pzXydZ51_",
        "outputId": "92c184c7-d374-4995-ee94-a0ec1bc45a86"
      },
      "outputs": [
        {
          "data": {
            "text/html": [
              "<div>\n",
              "<style scoped>\n",
              "    .dataframe tbody tr th:only-of-type {\n",
              "        vertical-align: middle;\n",
              "    }\n",
              "\n",
              "    .dataframe tbody tr th {\n",
              "        vertical-align: top;\n",
              "    }\n",
              "\n",
              "    .dataframe thead th {\n",
              "        text-align: right;\n",
              "    }\n",
              "</style>\n",
              "<table border=\"1\" class=\"dataframe\">\n",
              "  <thead>\n",
              "    <tr style=\"text-align: right;\">\n",
              "      <th></th>\n",
              "      <th>listing_id</th>\n",
              "      <th>name</th>\n",
              "      <th>host_id</th>\n",
              "      <th>host_name</th>\n",
              "      <th>neighbourhood_full</th>\n",
              "      <th>room_type</th>\n",
              "      <th>price</th>\n",
              "      <th>number_of_reviews</th>\n",
              "      <th>last_review</th>\n",
              "      <th>reviews_per_month</th>\n",
              "      <th>availability_365</th>\n",
              "      <th>rating</th>\n",
              "      <th>number_of_stays</th>\n",
              "      <th>5_stars</th>\n",
              "      <th>listing_added</th>\n",
              "      <th>latitude</th>\n",
              "      <th>longtitude</th>\n",
              "    </tr>\n",
              "  </thead>\n",
              "  <tbody>\n",
              "    <tr>\n",
              "      <th>0</th>\n",
              "      <td>13740704</td>\n",
              "      <td>Cozy,budget friendly, cable inc, private entra...</td>\n",
              "      <td>20583125</td>\n",
              "      <td>Michel</td>\n",
              "      <td>Brooklyn, Flatlands</td>\n",
              "      <td>Private room</td>\n",
              "      <td>45$</td>\n",
              "      <td>10</td>\n",
              "      <td>2018-12-12</td>\n",
              "      <td>0.70</td>\n",
              "      <td>85</td>\n",
              "      <td>4.100954</td>\n",
              "      <td>12.0</td>\n",
              "      <td>0.609432</td>\n",
              "      <td>2018-06-08</td>\n",
              "      <td>40.63222</td>\n",
              "      <td>-73.93398</td>\n",
              "    </tr>\n",
              "    <tr>\n",
              "      <th>1</th>\n",
              "      <td>22005115</td>\n",
              "      <td>Two floor apartment near Central Park</td>\n",
              "      <td>82746113</td>\n",
              "      <td>Cecilia</td>\n",
              "      <td>Manhattan, Upper West Side</td>\n",
              "      <td>Entire home/apt</td>\n",
              "      <td>135$</td>\n",
              "      <td>1</td>\n",
              "      <td>2019-06-30</td>\n",
              "      <td>1.00</td>\n",
              "      <td>145</td>\n",
              "      <td>3.367600</td>\n",
              "      <td>1.2</td>\n",
              "      <td>0.746135</td>\n",
              "      <td>2018-12-25</td>\n",
              "      <td>40.78761</td>\n",
              "      <td>-73.96862</td>\n",
              "    </tr>\n",
              "    <tr>\n",
              "      <th>2</th>\n",
              "      <td>21667615</td>\n",
              "      <td>Beautiful 1BR in Brooklyn Heights</td>\n",
              "      <td>78251</td>\n",
              "      <td>Leslie</td>\n",
              "      <td>Brooklyn, Brooklyn Heights</td>\n",
              "      <td>Entire home/apt</td>\n",
              "      <td>150$</td>\n",
              "      <td>0</td>\n",
              "      <td>NaN</td>\n",
              "      <td>NaN</td>\n",
              "      <td>65</td>\n",
              "      <td>NaN</td>\n",
              "      <td>NaN</td>\n",
              "      <td>NaN</td>\n",
              "      <td>2018-08-15</td>\n",
              "      <td>40.70070</td>\n",
              "      <td>-73.99517</td>\n",
              "    </tr>\n",
              "    <tr>\n",
              "      <th>3</th>\n",
              "      <td>6425850</td>\n",
              "      <td>Spacious, charming studio</td>\n",
              "      <td>32715865</td>\n",
              "      <td>Yelena</td>\n",
              "      <td>Manhattan, Upper West Side</td>\n",
              "      <td>Entire home/apt</td>\n",
              "      <td>86$</td>\n",
              "      <td>5</td>\n",
              "      <td>2017-09-23</td>\n",
              "      <td>0.13</td>\n",
              "      <td>0</td>\n",
              "      <td>4.763203</td>\n",
              "      <td>6.0</td>\n",
              "      <td>0.769947</td>\n",
              "      <td>2017-03-20</td>\n",
              "      <td>40.79169</td>\n",
              "      <td>-73.97498</td>\n",
              "    </tr>\n",
              "    <tr>\n",
              "      <th>4</th>\n",
              "      <td>22986519</td>\n",
              "      <td>Bedroom on the lively Lower East Side</td>\n",
              "      <td>154262349</td>\n",
              "      <td>Brooke</td>\n",
              "      <td>Manhattan, Lower East Side</td>\n",
              "      <td>Private room</td>\n",
              "      <td>160$</td>\n",
              "      <td>23</td>\n",
              "      <td>2019-06-12</td>\n",
              "      <td>2.29</td>\n",
              "      <td>102</td>\n",
              "      <td>3.822591</td>\n",
              "      <td>27.6</td>\n",
              "      <td>0.649383</td>\n",
              "      <td>2020-10-23</td>\n",
              "      <td>40.71884</td>\n",
              "      <td>-73.98354</td>\n",
              "    </tr>\n",
              "  </tbody>\n",
              "</table>\n",
              "</div>"
            ],
            "text/plain": [
              "   listing_id                                               name    host_id  \\\n",
              "0    13740704  Cozy,budget friendly, cable inc, private entra...   20583125   \n",
              "1    22005115              Two floor apartment near Central Park   82746113   \n",
              "2    21667615                  Beautiful 1BR in Brooklyn Heights      78251   \n",
              "3     6425850                          Spacious, charming studio   32715865   \n",
              "4    22986519              Bedroom on the lively Lower East Side  154262349   \n",
              "\n",
              "  host_name          neighbourhood_full        room_type price  \\\n",
              "0    Michel         Brooklyn, Flatlands     Private room   45$   \n",
              "1   Cecilia  Manhattan, Upper West Side  Entire home/apt  135$   \n",
              "2    Leslie  Brooklyn, Brooklyn Heights  Entire home/apt  150$   \n",
              "3    Yelena  Manhattan, Upper West Side  Entire home/apt   86$   \n",
              "4    Brooke  Manhattan, Lower East Side     Private room  160$   \n",
              "\n",
              "   number_of_reviews last_review  reviews_per_month  availability_365  \\\n",
              "0                 10  2018-12-12               0.70                85   \n",
              "1                  1  2019-06-30               1.00               145   \n",
              "2                  0         NaN                NaN                65   \n",
              "3                  5  2017-09-23               0.13                 0   \n",
              "4                 23  2019-06-12               2.29               102   \n",
              "\n",
              "     rating  number_of_stays   5_stars listing_added  latitude  longtitude  \n",
              "0  4.100954             12.0  0.609432    2018-06-08  40.63222   -73.93398  \n",
              "1  3.367600              1.2  0.746135    2018-12-25  40.78761   -73.96862  \n",
              "2       NaN              NaN       NaN    2018-08-15  40.70070   -73.99517  \n",
              "3  4.763203              6.0  0.769947    2017-03-20  40.79169   -73.97498  \n",
              "4  3.822591             27.6  0.649383    2020-10-23  40.71884   -73.98354  "
            ]
          },
          "execution_count": 31,
          "metadata": {},
          "output_type": "execute_result"
        }
      ],
      "source": [
        "# Cetak data sekali lagi\n",
        "data.head()"
      ]
    },
    {
      "cell_type": "markdown",
      "metadata": {
        "id": "zlzJPLK0RSr9"
      },
      "source": [
        "**Challenge 2**: Hapus `$` dari kolom `price` dan konversi ke `float`"
      ]
    },
    {
      "cell_type": "code",
      "execution_count": 32,
      "metadata": {
        "id": "Su6AjSotRHL-"
      },
      "outputs": [],
      "source": [
        "# Hapus tanda dolar ($) dari kolom price sebelum nantinya akan kita konversi ke tipe data FLOAT\n",
        "data['price'] = data['price'].str.strip('$')"
      ]
    },
    {
      "cell_type": "code",
      "execution_count": 33,
      "metadata": {
        "colab": {
          "base_uri": "https://localhost:8080/"
        },
        "id": "_kXrFJ_IaVq2",
        "outputId": "e360f9f3-9676-4adb-c139-00335cb0fe1b"
      },
      "outputs": [
        {
          "data": {
            "text/plain": [
              "0     45\n",
              "1    135\n",
              "2    150\n",
              "3     86\n",
              "4    160\n",
              "Name: price, dtype: object"
            ]
          },
          "execution_count": 33,
          "metadata": {},
          "output_type": "execute_result"
        }
      ],
      "source": [
        "# Cetak untuk melihat apakah sudah terjadi perubahan pada kolom price\n",
        "data['price'].head()"
      ]
    },
    {
      "cell_type": "code",
      "execution_count": 34,
      "metadata": {
        "id": "qTpZJaY1Rdhd"
      },
      "outputs": [],
      "source": [
        "# Konversi kolom price ke bentuk FLOAT\n",
        "data['price'] = data['price'].astype('float')"
      ]
    },
    {
      "cell_type": "code",
      "execution_count": 36,
      "metadata": {
        "colab": {
          "base_uri": "https://localhost:8080/"
        },
        "id": "5R0Ge4alawMn",
        "outputId": "74fac177-4edc-4e15-e0ad-14565d3f19fb"
      },
      "outputs": [
        {
          "data": {
            "text/plain": [
              "150.90512217564665"
            ]
          },
          "execution_count": 36,
          "metadata": {},
          "output_type": "execute_result"
        }
      ],
      "source": [
        "# Hitung nilai mean dari kolom price setelah dikonversi\n",
        "data['price'].mean()"
      ]
    },
    {
      "cell_type": "code",
      "execution_count": 41,
      "metadata": {
        "colab": {
          "base_uri": "https://localhost:8080/",
          "height": 368
        },
        "id": "GH4hcs4kRx99",
        "outputId": "5606090d-31c8-4dfa-abb1-20edc7004cb6"
      },
      "outputs": [
        {
          "data": {
            "text/plain": [
              "[]"
            ]
          },
          "execution_count": 41,
          "metadata": {},
          "output_type": "execute_result"
        },
        {
          "data": {
            "image/png": "[encoded data removed]",
            "text/plain": [
              "<Figure size 360x360 with 1 Axes>"
            ]
          },
          "metadata": {
            "needs_background": "light"
          },
          "output_type": "display_data"
        }
      ],
      "source": [
        "# Buat visualisasi distribusi dari kolom prices\n",
        "sns.displot(data['price'], bins = 20)\n",
        "plt.plot()"
      ]
    },
    {
      "cell_type": "markdown",
      "metadata": {
        "id": "6Lgkb8nBSa42"
      },
      "source": [
        "**Challenge 3**: Kita buat supaya kolom `room_type` benar-benar rapi secara kategori."
      ]
    },
    {
      "cell_type": "code",
      "execution_count": 45,
      "metadata": {
        "colab": {
          "base_uri": "https://localhost:8080/"
        },
        "id": "MkLeUjVUSO2u",
        "outputId": "c5e86b0d-d4cc-409f-ddc1-0df95421f34b"
      },
      "outputs": [
        {
          "data": {
            "text/plain": [
              "array(['Private room', 'Entire home/apt', 'Private', 'Shared room',\n",
              "       'PRIVATE ROOM', 'home', '   Shared room      '], dtype=object)"
            ]
          },
          "execution_count": 45,
          "metadata": {},
          "output_type": "execute_result"
        }
      ],
      "source": [
        "# Cetak supaya tahu kategori apa saja yang ada di kolom `room_type`\n",
        "data['room_type'].unique()"
      ]
    },
    {
      "cell_type": "code",
      "execution_count": 46,
      "metadata": {
        "colab": {
          "base_uri": "https://localhost:8080/"
        },
        "id": "i25lxq3VSm32",
        "outputId": "8b4e90e8-20e5-479c-cc8c-021f5638413d"
      },
      "outputs": [
        {
          "data": {
            "text/plain": [
              "array(['private room', 'entire home/apt', 'private', 'shared room',\n",
              "       'home', '   shared room      '], dtype=object)"
            ]
          },
          "execution_count": 46,
          "metadata": {},
          "output_type": "execute_result"
        }
      ],
      "source": [
        "# Buat supaya semua berubah menjadi huruf kecil\n",
        "data['room_type'] = data['room_type'].str.lower()\n",
        "data['room_type'].unique()"
      ]
    },
    {
      "cell_type": "code",
      "execution_count": 50,
      "metadata": {
        "colab": {
          "base_uri": "https://localhost:8080/"
        },
        "id": "PVOMa8zqSpCQ",
        "outputId": "e6cf2f62-b406-4923-c800-3d93ce237c35"
      },
      "outputs": [
        {
          "data": {
            "text/plain": [
              "array(['private room', 'entire home/apt', 'private', 'shared room',\n",
              "       'home'], dtype=object)"
            ]
          },
          "execution_count": 50,
          "metadata": {},
          "output_type": "execute_result"
        }
      ],
      "source": [
        "# Buat supaya tidak ada spasi di awal dan akhir\n",
        "data['room_type'] = data['room_type'].str.strip(' ')\n",
        "data['room_type'].unique()"
      ]
    },
    {
      "cell_type": "code",
      "execution_count": 59,
      "metadata": {
        "colab": {
          "base_uri": "https://localhost:8080/"
        },
        "id": "KaaDEmmFSrbR",
        "outputId": "a601ee4b-0b66-4ed4-89b3-a2fb74e9a110"
      },
      "outputs": [
        {
          "data": {
            "text/plain": [
              "array(['Private room', 'Entire place', 'Shared room'], dtype=object)"
            ]
          },
          "execution_count": 59,
          "metadata": {},
          "output_type": "execute_result"
        }
      ],
      "source": [
        "# Ganti menjadi kategori 'Shared room', 'Entire place', 'Private room' dan 'Hotel room'\n",
        "mapping = { 'private room' : 'Private room',\n",
        "            'private': 'Private room',\n",
        "            'entire home/apt' : 'Entire place',\n",
        "            'home' : 'Entire place',\n",
        "            'shared room' : 'Shared room'\n",
        "} \n",
        "for key in mapping.keys():\n",
        "    data['room_type'] = data['room_type'].str.replace(key, mapping[key])\n",
        "data['room_type'].unique()"
      ]
    },
    {
      "cell_type": "code",
      "execution_count": 60,
      "metadata": {
        "colab": {
          "base_uri": "https://localhost:8080/",
          "height": 531
        },
        "id": "9GE3uwJlcj_O",
        "outputId": "4632e58d-29a1-4f03-acc2-10326f1101a5"
      },
      "outputs": [
        {
          "data": {
            "text/html": [
              "<div>\n",
              "<style scoped>\n",
              "    .dataframe tbody tr th:only-of-type {\n",
              "        vertical-align: middle;\n",
              "    }\n",
              "\n",
              "    .dataframe tbody tr th {\n",
              "        vertical-align: top;\n",
              "    }\n",
              "\n",
              "    .dataframe thead th {\n",
              "        text-align: right;\n",
              "    }\n",
              "</style>\n",
              "<table border=\"1\" class=\"dataframe\">\n",
              "  <thead>\n",
              "    <tr style=\"text-align: right;\">\n",
              "      <th></th>\n",
              "      <th>listing_id</th>\n",
              "      <th>name</th>\n",
              "      <th>host_id</th>\n",
              "      <th>host_name</th>\n",
              "      <th>neighbourhood_full</th>\n",
              "      <th>room_type</th>\n",
              "      <th>price</th>\n",
              "      <th>number_of_reviews</th>\n",
              "      <th>last_review</th>\n",
              "      <th>reviews_per_month</th>\n",
              "      <th>availability_365</th>\n",
              "      <th>rating</th>\n",
              "      <th>number_of_stays</th>\n",
              "      <th>5_stars</th>\n",
              "      <th>listing_added</th>\n",
              "      <th>latitude</th>\n",
              "      <th>longtitude</th>\n",
              "    </tr>\n",
              "  </thead>\n",
              "  <tbody>\n",
              "    <tr>\n",
              "      <th>0</th>\n",
              "      <td>13740704</td>\n",
              "      <td>Cozy,budget friendly, cable inc, private entra...</td>\n",
              "      <td>20583125</td>\n",
              "      <td>Michel</td>\n",
              "      <td>Brooklyn, Flatlands</td>\n",
              "      <td>Private room</td>\n",
              "      <td>45.0</td>\n",
              "      <td>10</td>\n",
              "      <td>2018-12-12</td>\n",
              "      <td>0.70</td>\n",
              "      <td>85</td>\n",
              "      <td>4.100954</td>\n",
              "      <td>12.0</td>\n",
              "      <td>0.609432</td>\n",
              "      <td>2018-06-08</td>\n",
              "      <td>40.63222</td>\n",
              "      <td>-73.93398</td>\n",
              "    </tr>\n",
              "    <tr>\n",
              "      <th>1</th>\n",
              "      <td>22005115</td>\n",
              "      <td>Two floor apartment near Central Park</td>\n",
              "      <td>82746113</td>\n",
              "      <td>Cecilia</td>\n",
              "      <td>Manhattan, Upper West Side</td>\n",
              "      <td>Entire place</td>\n",
              "      <td>135.0</td>\n",
              "      <td>1</td>\n",
              "      <td>2019-06-30</td>\n",
              "      <td>1.00</td>\n",
              "      <td>145</td>\n",
              "      <td>3.367600</td>\n",
              "      <td>1.2</td>\n",
              "      <td>0.746135</td>\n",
              "      <td>2018-12-25</td>\n",
              "      <td>40.78761</td>\n",
              "      <td>-73.96862</td>\n",
              "    </tr>\n",
              "    <tr>\n",
              "      <th>2</th>\n",
              "      <td>21667615</td>\n",
              "      <td>Beautiful 1BR in Brooklyn Heights</td>\n",
              "      <td>78251</td>\n",
              "      <td>Leslie</td>\n",
              "      <td>Brooklyn, Brooklyn Heights</td>\n",
              "      <td>Entire place</td>\n",
              "      <td>150.0</td>\n",
              "      <td>0</td>\n",
              "      <td>NaN</td>\n",
              "      <td>NaN</td>\n",
              "      <td>65</td>\n",
              "      <td>NaN</td>\n",
              "      <td>NaN</td>\n",
              "      <td>NaN</td>\n",
              "      <td>2018-08-15</td>\n",
              "      <td>40.70070</td>\n",
              "      <td>-73.99517</td>\n",
              "    </tr>\n",
              "    <tr>\n",
              "      <th>3</th>\n",
              "      <td>6425850</td>\n",
              "      <td>Spacious, charming studio</td>\n",
              "      <td>32715865</td>\n",
              "      <td>Yelena</td>\n",
              "      <td>Manhattan, Upper West Side</td>\n",
              "      <td>Entire place</td>\n",
              "      <td>86.0</td>\n",
              "      <td>5</td>\n",
              "      <td>2017-09-23</td>\n",
              "      <td>0.13</td>\n",
              "      <td>0</td>\n",
              "      <td>4.763203</td>\n",
              "      <td>6.0</td>\n",
              "      <td>0.769947</td>\n",
              "      <td>2017-03-20</td>\n",
              "      <td>40.79169</td>\n",
              "      <td>-73.97498</td>\n",
              "    </tr>\n",
              "    <tr>\n",
              "      <th>4</th>\n",
              "      <td>22986519</td>\n",
              "      <td>Bedroom on the lively Lower East Side</td>\n",
              "      <td>154262349</td>\n",
              "      <td>Brooke</td>\n",
              "      <td>Manhattan, Lower East Side</td>\n",
              "      <td>Private room</td>\n",
              "      <td>160.0</td>\n",
              "      <td>23</td>\n",
              "      <td>2019-06-12</td>\n",
              "      <td>2.29</td>\n",
              "      <td>102</td>\n",
              "      <td>3.822591</td>\n",
              "      <td>27.6</td>\n",
              "      <td>0.649383</td>\n",
              "      <td>2020-10-23</td>\n",
              "      <td>40.71884</td>\n",
              "      <td>-73.98354</td>\n",
              "    </tr>\n",
              "  </tbody>\n",
              "</table>\n",
              "</div>"
            ],
            "text/plain": [
              "   listing_id                                               name    host_id  \\\n",
              "0    13740704  Cozy,budget friendly, cable inc, private entra...   20583125   \n",
              "1    22005115              Two floor apartment near Central Park   82746113   \n",
              "2    21667615                  Beautiful 1BR in Brooklyn Heights      78251   \n",
              "3     6425850                          Spacious, charming studio   32715865   \n",
              "4    22986519              Bedroom on the lively Lower East Side  154262349   \n",
              "\n",
              "  host_name          neighbourhood_full     room_type  price  \\\n",
              "0    Michel         Brooklyn, Flatlands  Private room   45.0   \n",
              "1   Cecilia  Manhattan, Upper West Side  Entire place  135.0   \n",
              "2    Leslie  Brooklyn, Brooklyn Heights  Entire place  150.0   \n",
              "3    Yelena  Manhattan, Upper West Side  Entire place   86.0   \n",
              "4    Brooke  Manhattan, Lower East Side  Private room  160.0   \n",
              "\n",
              "   number_of_reviews last_review  reviews_per_month  availability_365  \\\n",
              "0                 10  2018-12-12               0.70                85   \n",
              "1                  1  2019-06-30               1.00               145   \n",
              "2                  0         NaN                NaN                65   \n",
              "3                  5  2017-09-23               0.13                 0   \n",
              "4                 23  2019-06-12               2.29               102   \n",
              "\n",
              "     rating  number_of_stays   5_stars listing_added  latitude  longtitude  \n",
              "0  4.100954             12.0  0.609432    2018-06-08  40.63222   -73.93398  \n",
              "1  3.367600              1.2  0.746135    2018-12-25  40.78761   -73.96862  \n",
              "2       NaN              NaN       NaN    2018-08-15  40.70070   -73.99517  \n",
              "3  4.763203              6.0  0.769947    2017-03-20  40.79169   -73.97498  \n",
              "4  3.822591             27.6  0.649383    2020-10-23  40.71884   -73.98354  "
            ]
          },
          "execution_count": 60,
          "metadata": {},
          "output_type": "execute_result"
        }
      ],
      "source": [
        "# Cek 5 data teratas untuk melihat perubahan yang terjadi\n",
        "data.head()"
      ]
    },
    {
      "cell_type": "markdown",
      "metadata": {
        "id": "MktQegnOS7H-"
      },
      "source": [
        "**Challenge 4**: Kita bersihkan **missing data**"
      ]
    },
    {
      "cell_type": "code",
      "execution_count": 63,
      "metadata": {
        "colab": {
          "base_uri": "https://localhost:8080/",
          "height": 597
        },
        "id": "LFIgvPC7TZKO",
        "outputId": "73835861-2dad-46fb-b2bf-776c47a36e77"
      },
      "outputs": [
        {
          "data": {
            "image/png": "[encoded data removed]",
            "text/plain": [
              "<Figure size 1800x720 with 2 Axes>"
            ]
          },
          "metadata": {
            "needs_background": "light"
          },
          "output_type": "display_data"
        }
      ],
      "source": [
        "# Visualisasi missingness \n",
        "ms.matrix(data)\n",
        "plt.show()"
      ]
    },
    {
      "cell_type": "code",
      "execution_count": 68,
      "metadata": {
        "colab": {
          "base_uri": "https://localhost:8080/",
          "height": 597
        },
        "id": "wq5EVIpmTu4h",
        "outputId": "990337d5-e6b9-4d2d-e6c7-880f1f3495a3"
      },
      "outputs": [
        {
          "data": {
            "image/png": "[encoded data removed]",
            "text/plain": [
              "<Figure size 1800x720 with 2 Axes>"
            ]
          },
          "metadata": {
            "needs_background": "light"
          },
          "output_type": "display_data"
        }
      ],
      "source": [
        "# Visualisasikan missingness berdasarkan rating\n",
        "ms.matrix(data.sort_values(by = 'rating'))\n",
        "plt.show()"
      ]
    },
    {
      "cell_type": "code",
      "execution_count": 62,
      "metadata": {
        "colab": {
          "base_uri": "https://localhost:8080/",
          "height": 648
        },
        "id": "NhftOP4gT1gQ",
        "outputId": "512fd178-3b37-4a2f-bd60-2720dac8d103"
      },
      "outputs": [
        {
          "data": {
            "text/plain": [
              "<AxesSubplot:>"
            ]
          },
          "execution_count": 62,
          "metadata": {},
          "output_type": "execute_result"
        },
        {
          "data": {
            "image/png": "[encoded data removed]",
            "text/plain": [
              "<Figure size 1800x720 with 3 Axes>"
            ]
          },
          "metadata": {
            "needs_background": "light"
          },
          "output_type": "display_data"
        }
      ],
      "source": [
        "# Buat dalam bentuk barplot\n",
        "ms.bar(data)"
      ]
    },
    {
      "cell_type": "code",
      "execution_count": 67,
      "metadata": {
        "colab": {
          "base_uri": "https://localhost:8080/",
          "height": 344
        },
        "id": "Thff8nSjT4C0",
        "outputId": "5bed22ef-9dbe-482b-afaf-b24465d04cdf"
      },
      "outputs": [
        {
          "data": {
            "text/html": [
              "<div>\n",
              "<style scoped>\n",
              "    .dataframe tbody tr th:only-of-type {\n",
              "        vertical-align: middle;\n",
              "    }\n",
              "\n",
              "    .dataframe tbody tr th {\n",
              "        vertical-align: top;\n",
              "    }\n",
              "\n",
              "    .dataframe thead th {\n",
              "        text-align: right;\n",
              "    }\n",
              "</style>\n",
              "<table border=\"1\" class=\"dataframe\">\n",
              "  <thead>\n",
              "    <tr style=\"text-align: right;\">\n",
              "      <th></th>\n",
              "      <th>listing_id</th>\n",
              "      <th>host_id</th>\n",
              "      <th>price</th>\n",
              "      <th>number_of_reviews</th>\n",
              "      <th>reviews_per_month</th>\n",
              "      <th>availability_365</th>\n",
              "      <th>rating</th>\n",
              "      <th>number_of_stays</th>\n",
              "      <th>5_stars</th>\n",
              "      <th>latitude</th>\n",
              "      <th>longtitude</th>\n",
              "      <th>sudah_dinilai</th>\n",
              "    </tr>\n",
              "  </thead>\n",
              "  <tbody>\n",
              "    <tr>\n",
              "      <th>count</th>\n",
              "      <td>2.075000e+03</td>\n",
              "      <td>2.075000e+03</td>\n",
              "      <td>2028.000000</td>\n",
              "      <td>2075.0</td>\n",
              "      <td>2075.0</td>\n",
              "      <td>2075.000000</td>\n",
              "      <td>0.0</td>\n",
              "      <td>2075.0</td>\n",
              "      <td>2075.0</td>\n",
              "      <td>2075.000000</td>\n",
              "      <td>2075.000000</td>\n",
              "      <td>2075.0</td>\n",
              "    </tr>\n",
              "    <tr>\n",
              "      <th>mean</th>\n",
              "      <td>2.274238e+07</td>\n",
              "      <td>8.022455e+07</td>\n",
              "      <td>191.553748</td>\n",
              "      <td>0.0</td>\n",
              "      <td>0.0</td>\n",
              "      <td>104.531566</td>\n",
              "      <td>NaN</td>\n",
              "      <td>0.0</td>\n",
              "      <td>0.0</td>\n",
              "      <td>40.732074</td>\n",
              "      <td>-73.956771</td>\n",
              "      <td>0.0</td>\n",
              "    </tr>\n",
              "    <tr>\n",
              "      <th>std</th>\n",
              "      <td>1.123730e+07</td>\n",
              "      <td>8.663163e+07</td>\n",
              "      <td>316.186639</td>\n",
              "      <td>0.0</td>\n",
              "      <td>0.0</td>\n",
              "      <td>138.266525</td>\n",
              "      <td>NaN</td>\n",
              "      <td>0.0</td>\n",
              "      <td>0.0</td>\n",
              "      <td>0.051168</td>\n",
              "      <td>0.041065</td>\n",
              "      <td>0.0</td>\n",
              "    </tr>\n",
              "    <tr>\n",
              "      <th>min</th>\n",
              "      <td>6.358800e+04</td>\n",
              "      <td>1.475100e+04</td>\n",
              "      <td>0.000000</td>\n",
              "      <td>0.0</td>\n",
              "      <td>0.0</td>\n",
              "      <td>0.000000</td>\n",
              "      <td>NaN</td>\n",
              "      <td>0.0</td>\n",
              "      <td>0.0</td>\n",
              "      <td>40.527000</td>\n",
              "      <td>-74.209410</td>\n",
              "      <td>0.0</td>\n",
              "    </tr>\n",
              "    <tr>\n",
              "      <th>25%</th>\n",
              "      <td>1.232923e+07</td>\n",
              "      <td>1.224305e+07</td>\n",
              "      <td>70.000000</td>\n",
              "      <td>0.0</td>\n",
              "      <td>0.0</td>\n",
              "      <td>0.000000</td>\n",
              "      <td>NaN</td>\n",
              "      <td>0.0</td>\n",
              "      <td>0.0</td>\n",
              "      <td>40.697845</td>\n",
              "      <td>-73.985185</td>\n",
              "      <td>0.0</td>\n",
              "    </tr>\n",
              "    <tr>\n",
              "      <th>50%</th>\n",
              "      <td>2.345182e+07</td>\n",
              "      <td>4.040116e+07</td>\n",
              "      <td>120.000000</td>\n",
              "      <td>0.0</td>\n",
              "      <td>0.0</td>\n",
              "      <td>7.000000</td>\n",
              "      <td>NaN</td>\n",
              "      <td>0.0</td>\n",
              "      <td>0.0</td>\n",
              "      <td>40.727790</td>\n",
              "      <td>-73.960940</td>\n",
              "      <td>0.0</td>\n",
              "    </tr>\n",
              "    <tr>\n",
              "      <th>75%</th>\n",
              "      <td>3.400364e+07</td>\n",
              "      <td>1.333498e+08</td>\n",
              "      <td>205.250000</td>\n",
              "      <td>0.0</td>\n",
              "      <td>0.0</td>\n",
              "      <td>211.000000</td>\n",
              "      <td>NaN</td>\n",
              "      <td>0.0</td>\n",
              "      <td>0.0</td>\n",
              "      <td>40.763480</td>\n",
              "      <td>-73.939540</td>\n",
              "      <td>0.0</td>\n",
              "    </tr>\n",
              "    <tr>\n",
              "      <th>max</th>\n",
              "      <td>3.648724e+07</td>\n",
              "      <td>2.741034e+08</td>\n",
              "      <td>5250.000000</td>\n",
              "      <td>0.0</td>\n",
              "      <td>0.0</td>\n",
              "      <td>365.000000</td>\n",
              "      <td>NaN</td>\n",
              "      <td>0.0</td>\n",
              "      <td>0.0</td>\n",
              "      <td>40.911690</td>\n",
              "      <td>-73.727310</td>\n",
              "      <td>0.0</td>\n",
              "    </tr>\n",
              "  </tbody>\n",
              "</table>\n",
              "</div>"
            ],
            "text/plain": [
              "         listing_id       host_id        price  number_of_reviews  \\\n",
              "count  2.075000e+03  2.075000e+03  2028.000000             2075.0   \n",
              "mean   2.274238e+07  8.022455e+07   191.553748                0.0   \n",
              "std    1.123730e+07  8.663163e+07   316.186639                0.0   \n",
              "min    6.358800e+04  1.475100e+04     0.000000                0.0   \n",
              "25%    1.232923e+07  1.224305e+07    70.000000                0.0   \n",
              "50%    2.345182e+07  4.040116e+07   120.000000                0.0   \n",
              "75%    3.400364e+07  1.333498e+08   205.250000                0.0   \n",
              "max    3.648724e+07  2.741034e+08  5250.000000                0.0   \n",
              "\n",
              "       reviews_per_month  availability_365  rating  number_of_stays  5_stars  \\\n",
              "count             2075.0       2075.000000     0.0           2075.0   2075.0   \n",
              "mean                 0.0        104.531566     NaN              0.0      0.0   \n",
              "std                  0.0        138.266525     NaN              0.0      0.0   \n",
              "min                  0.0          0.000000     NaN              0.0      0.0   \n",
              "25%                  0.0          0.000000     NaN              0.0      0.0   \n",
              "50%                  0.0          7.000000     NaN              0.0      0.0   \n",
              "75%                  0.0        211.000000     NaN              0.0      0.0   \n",
              "max                  0.0        365.000000     NaN              0.0      0.0   \n",
              "\n",
              "          latitude   longtitude  sudah_dinilai  \n",
              "count  2075.000000  2075.000000         2075.0  \n",
              "mean     40.732074   -73.956771            0.0  \n",
              "std       0.051168     0.041065            0.0  \n",
              "min      40.527000   -74.209410            0.0  \n",
              "25%      40.697845   -73.985185            0.0  \n",
              "50%      40.727790   -73.960940            0.0  \n",
              "75%      40.763480   -73.939540            0.0  \n",
              "max      40.911690   -73.727310            0.0  "
            ]
          },
          "execution_count": 67,
          "metadata": {},
          "output_type": "execute_result"
        }
      ],
      "source": [
        "# Cek DataFrame yang ada missing values di kolom rating, number_of_stays, 5_stars, reviews_per_month\n",
        "data[data['rating'].isna()].describe()"
      ]
    },
    {
      "cell_type": "code",
      "execution_count": 64,
      "metadata": {
        "id": "rYCxqFGaT_Qx"
      },
      "outputs": [],
      "source": [
        "# Lakukan imputasi untuk missing data\n",
        "data = data.fillna({\n",
        "    'reviews_per_month' : 0,\n",
        "    'number_of_stays' : 0,\n",
        "    '5_stars' : 0\n",
        "})"
      ]
    },
    {
      "cell_type": "code",
      "execution_count": 65,
      "metadata": {
        "id": "rqyuglrjUC-C"
      },
      "outputs": [],
      "source": [
        "# Buat kolom baru, beri nama sudah_dinilai\n",
        "sudah_dinilai = np.where(data['rating'].isna()== True,0 ,1)\n",
        "data['sudah_dinilai'] = sudah_dinilai"
      ]
    },
    {
      "cell_type": "code",
      "execution_count": 66,
      "metadata": {
        "colab": {
          "base_uri": "https://localhost:8080/",
          "height": 531
        },
        "id": "3LbQDYhAeDoq",
        "outputId": "7b96fc61-2a4a-456c-b4da-19f2cb9166c6"
      },
      "outputs": [
        {
          "data": {
            "text/html": [
              "<div>\n",
              "<style scoped>\n",
              "    .dataframe tbody tr th:only-of-type {\n",
              "        vertical-align: middle;\n",
              "    }\n",
              "\n",
              "    .dataframe tbody tr th {\n",
              "        vertical-align: top;\n",
              "    }\n",
              "\n",
              "    .dataframe thead th {\n",
              "        text-align: right;\n",
              "    }\n",
              "</style>\n",
              "<table border=\"1\" class=\"dataframe\">\n",
              "  <thead>\n",
              "    <tr style=\"text-align: right;\">\n",
              "      <th></th>\n",
              "      <th>listing_id</th>\n",
              "      <th>name</th>\n",
              "      <th>host_id</th>\n",
              "      <th>host_name</th>\n",
              "      <th>neighbourhood_full</th>\n",
              "      <th>room_type</th>\n",
              "      <th>price</th>\n",
              "      <th>number_of_reviews</th>\n",
              "      <th>last_review</th>\n",
              "      <th>reviews_per_month</th>\n",
              "      <th>availability_365</th>\n",
              "      <th>rating</th>\n",
              "      <th>number_of_stays</th>\n",
              "      <th>5_stars</th>\n",
              "      <th>listing_added</th>\n",
              "      <th>latitude</th>\n",
              "      <th>longtitude</th>\n",
              "      <th>sudah_dinilai</th>\n",
              "    </tr>\n",
              "  </thead>\n",
              "  <tbody>\n",
              "    <tr>\n",
              "      <th>0</th>\n",
              "      <td>13740704</td>\n",
              "      <td>Cozy,budget friendly, cable inc, private entra...</td>\n",
              "      <td>20583125</td>\n",
              "      <td>Michel</td>\n",
              "      <td>Brooklyn, Flatlands</td>\n",
              "      <td>Private room</td>\n",
              "      <td>45.0</td>\n",
              "      <td>10</td>\n",
              "      <td>2018-12-12</td>\n",
              "      <td>0.70</td>\n",
              "      <td>85</td>\n",
              "      <td>4.100954</td>\n",
              "      <td>12.0</td>\n",
              "      <td>0.609432</td>\n",
              "      <td>2018-06-08</td>\n",
              "      <td>40.63222</td>\n",
              "      <td>-73.93398</td>\n",
              "      <td>1</td>\n",
              "    </tr>\n",
              "    <tr>\n",
              "      <th>1</th>\n",
              "      <td>22005115</td>\n",
              "      <td>Two floor apartment near Central Park</td>\n",
              "      <td>82746113</td>\n",
              "      <td>Cecilia</td>\n",
              "      <td>Manhattan, Upper West Side</td>\n",
              "      <td>Entire place</td>\n",
              "      <td>135.0</td>\n",
              "      <td>1</td>\n",
              "      <td>2019-06-30</td>\n",
              "      <td>1.00</td>\n",
              "      <td>145</td>\n",
              "      <td>3.367600</td>\n",
              "      <td>1.2</td>\n",
              "      <td>0.746135</td>\n",
              "      <td>2018-12-25</td>\n",
              "      <td>40.78761</td>\n",
              "      <td>-73.96862</td>\n",
              "      <td>1</td>\n",
              "    </tr>\n",
              "    <tr>\n",
              "      <th>2</th>\n",
              "      <td>21667615</td>\n",
              "      <td>Beautiful 1BR in Brooklyn Heights</td>\n",
              "      <td>78251</td>\n",
              "      <td>Leslie</td>\n",
              "      <td>Brooklyn, Brooklyn Heights</td>\n",
              "      <td>Entire place</td>\n",
              "      <td>150.0</td>\n",
              "      <td>0</td>\n",
              "      <td>NaN</td>\n",
              "      <td>0.00</td>\n",
              "      <td>65</td>\n",
              "      <td>NaN</td>\n",
              "      <td>0.0</td>\n",
              "      <td>0.000000</td>\n",
              "      <td>2018-08-15</td>\n",
              "      <td>40.70070</td>\n",
              "      <td>-73.99517</td>\n",
              "      <td>0</td>\n",
              "    </tr>\n",
              "    <tr>\n",
              "      <th>3</th>\n",
              "      <td>6425850</td>\n",
              "      <td>Spacious, charming studio</td>\n",
              "      <td>32715865</td>\n",
              "      <td>Yelena</td>\n",
              "      <td>Manhattan, Upper West Side</td>\n",
              "      <td>Entire place</td>\n",
              "      <td>86.0</td>\n",
              "      <td>5</td>\n",
              "      <td>2017-09-23</td>\n",
              "      <td>0.13</td>\n",
              "      <td>0</td>\n",
              "      <td>4.763203</td>\n",
              "      <td>6.0</td>\n",
              "      <td>0.769947</td>\n",
              "      <td>2017-03-20</td>\n",
              "      <td>40.79169</td>\n",
              "      <td>-73.97498</td>\n",
              "      <td>1</td>\n",
              "    </tr>\n",
              "    <tr>\n",
              "      <th>4</th>\n",
              "      <td>22986519</td>\n",
              "      <td>Bedroom on the lively Lower East Side</td>\n",
              "      <td>154262349</td>\n",
              "      <td>Brooke</td>\n",
              "      <td>Manhattan, Lower East Side</td>\n",
              "      <td>Private room</td>\n",
              "      <td>160.0</td>\n",
              "      <td>23</td>\n",
              "      <td>2019-06-12</td>\n",
              "      <td>2.29</td>\n",
              "      <td>102</td>\n",
              "      <td>3.822591</td>\n",
              "      <td>27.6</td>\n",
              "      <td>0.649383</td>\n",
              "      <td>2020-10-23</td>\n",
              "      <td>40.71884</td>\n",
              "      <td>-73.98354</td>\n",
              "      <td>1</td>\n",
              "    </tr>\n",
              "  </tbody>\n",
              "</table>\n",
              "</div>"
            ],
            "text/plain": [
              "   listing_id                                               name    host_id  \\\n",
              "0    13740704  Cozy,budget friendly, cable inc, private entra...   20583125   \n",
              "1    22005115              Two floor apartment near Central Park   82746113   \n",
              "2    21667615                  Beautiful 1BR in Brooklyn Heights      78251   \n",
              "3     6425850                          Spacious, charming studio   32715865   \n",
              "4    22986519              Bedroom on the lively Lower East Side  154262349   \n",
              "\n",
              "  host_name          neighbourhood_full     room_type  price  \\\n",
              "0    Michel         Brooklyn, Flatlands  Private room   45.0   \n",
              "1   Cecilia  Manhattan, Upper West Side  Entire place  135.0   \n",
              "2    Leslie  Brooklyn, Brooklyn Heights  Entire place  150.0   \n",
              "3    Yelena  Manhattan, Upper West Side  Entire place   86.0   \n",
              "4    Brooke  Manhattan, Lower East Side  Private room  160.0   \n",
              "\n",
              "   number_of_reviews last_review  reviews_per_month  availability_365  \\\n",
              "0                 10  2018-12-12               0.70                85   \n",
              "1                  1  2019-06-30               1.00               145   \n",
              "2                  0         NaN               0.00                65   \n",
              "3                  5  2017-09-23               0.13                 0   \n",
              "4                 23  2019-06-12               2.29               102   \n",
              "\n",
              "     rating  number_of_stays   5_stars listing_added  latitude  longtitude  \\\n",
              "0  4.100954             12.0  0.609432    2018-06-08  40.63222   -73.93398   \n",
              "1  3.367600              1.2  0.746135    2018-12-25  40.78761   -73.96862   \n",
              "2       NaN              0.0  0.000000    2018-08-15  40.70070   -73.99517   \n",
              "3  4.763203              6.0  0.769947    2017-03-20  40.79169   -73.97498   \n",
              "4  3.822591             27.6  0.649383    2020-10-23  40.71884   -73.98354   \n",
              "\n",
              "   sudah_dinilai  \n",
              "0              1  \n",
              "1              1  \n",
              "2              0  \n",
              "3              1  \n",
              "4              1  "
            ]
          },
          "execution_count": 66,
          "metadata": {},
          "output_type": "execute_result"
        }
      ],
      "source": [
        "# Cek data\n",
        "data.head()"
      ]
    },
    {
      "cell_type": "markdown",
      "metadata": {
        "id": "JzXib411emo3"
      },
      "source": [
        "**Challenge 5**: Hapus kolom-kolom berikut\n",
        "\n",
        "\n",
        "1.   neighbourhood_full\n",
        "2.   number_of_reviews\n",
        "3.   last_review\n",
        "4.   reviews_per_month\n",
        "5.   availability_365\n",
        "6.   number_of_stays\n",
        "7.   5_stars\n",
        "8.   listing_added\n",
        "\n",
        "\n",
        "\n",
        "\n",
        "\n",
        "\n",
        "\n"
      ]
    },
    {
      "cell_type": "code",
      "execution_count": 74,
      "metadata": {
        "id": "hFcIOmijeGtG"
      },
      "outputs": [],
      "source": [
        "# Hapus beberapa kolom yang tidak dibutuhkan\n",
        "columns=['neighbourhood_full', 'number_of_reviews', 'last_review', 'reviews_per_month', \n",
        "'availability_365', 'number_of_stays', '5_stars', 'listing_added']\n",
        "data.drop(columns, inplace=True, axis=1)"
      ]
    },
    {
      "cell_type": "code",
      "execution_count": 75,
      "metadata": {
        "id": "QbDozJHifYbu"
      },
      "outputs": [
        {
          "data": {
            "text/html": [
              "<div>\n",
              "<style scoped>\n",
              "    .dataframe tbody tr th:only-of-type {\n",
              "        vertical-align: middle;\n",
              "    }\n",
              "\n",
              "    .dataframe tbody tr th {\n",
              "        vertical-align: top;\n",
              "    }\n",
              "\n",
              "    .dataframe thead th {\n",
              "        text-align: right;\n",
              "    }\n",
              "</style>\n",
              "<table border=\"1\" class=\"dataframe\">\n",
              "  <thead>\n",
              "    <tr style=\"text-align: right;\">\n",
              "      <th></th>\n",
              "      <th>listing_id</th>\n",
              "      <th>name</th>\n",
              "      <th>host_id</th>\n",
              "      <th>host_name</th>\n",
              "      <th>room_type</th>\n",
              "      <th>price</th>\n",
              "      <th>rating</th>\n",
              "      <th>latitude</th>\n",
              "      <th>longtitude</th>\n",
              "      <th>sudah_dinilai</th>\n",
              "    </tr>\n",
              "  </thead>\n",
              "  <tbody>\n",
              "    <tr>\n",
              "      <th>0</th>\n",
              "      <td>13740704</td>\n",
              "      <td>Cozy,budget friendly, cable inc, private entra...</td>\n",
              "      <td>20583125</td>\n",
              "      <td>Michel</td>\n",
              "      <td>Private room</td>\n",
              "      <td>45.0</td>\n",
              "      <td>4.100954</td>\n",
              "      <td>40.63222</td>\n",
              "      <td>-73.93398</td>\n",
              "      <td>1</td>\n",
              "    </tr>\n",
              "    <tr>\n",
              "      <th>1</th>\n",
              "      <td>22005115</td>\n",
              "      <td>Two floor apartment near Central Park</td>\n",
              "      <td>82746113</td>\n",
              "      <td>Cecilia</td>\n",
              "      <td>Entire place</td>\n",
              "      <td>135.0</td>\n",
              "      <td>3.367600</td>\n",
              "      <td>40.78761</td>\n",
              "      <td>-73.96862</td>\n",
              "      <td>1</td>\n",
              "    </tr>\n",
              "    <tr>\n",
              "      <th>2</th>\n",
              "      <td>21667615</td>\n",
              "      <td>Beautiful 1BR in Brooklyn Heights</td>\n",
              "      <td>78251</td>\n",
              "      <td>Leslie</td>\n",
              "      <td>Entire place</td>\n",
              "      <td>150.0</td>\n",
              "      <td>NaN</td>\n",
              "      <td>40.70070</td>\n",
              "      <td>-73.99517</td>\n",
              "      <td>0</td>\n",
              "    </tr>\n",
              "    <tr>\n",
              "      <th>3</th>\n",
              "      <td>6425850</td>\n",
              "      <td>Spacious, charming studio</td>\n",
              "      <td>32715865</td>\n",
              "      <td>Yelena</td>\n",
              "      <td>Entire place</td>\n",
              "      <td>86.0</td>\n",
              "      <td>4.763203</td>\n",
              "      <td>40.79169</td>\n",
              "      <td>-73.97498</td>\n",
              "      <td>1</td>\n",
              "    </tr>\n",
              "    <tr>\n",
              "      <th>4</th>\n",
              "      <td>22986519</td>\n",
              "      <td>Bedroom on the lively Lower East Side</td>\n",
              "      <td>154262349</td>\n",
              "      <td>Brooke</td>\n",
              "      <td>Private room</td>\n",
              "      <td>160.0</td>\n",
              "      <td>3.822591</td>\n",
              "      <td>40.71884</td>\n",
              "      <td>-73.98354</td>\n",
              "      <td>1</td>\n",
              "    </tr>\n",
              "  </tbody>\n",
              "</table>\n",
              "</div>"
            ],
            "text/plain": [
              "   listing_id                                               name    host_id  \\\n",
              "0    13740704  Cozy,budget friendly, cable inc, private entra...   20583125   \n",
              "1    22005115              Two floor apartment near Central Park   82746113   \n",
              "2    21667615                  Beautiful 1BR in Brooklyn Heights      78251   \n",
              "3     6425850                          Spacious, charming studio   32715865   \n",
              "4    22986519              Bedroom on the lively Lower East Side  154262349   \n",
              "\n",
              "  host_name     room_type  price    rating  latitude  longtitude  \\\n",
              "0    Michel  Private room   45.0  4.100954  40.63222   -73.93398   \n",
              "1   Cecilia  Entire place  135.0  3.367600  40.78761   -73.96862   \n",
              "2    Leslie  Entire place  150.0       NaN  40.70070   -73.99517   \n",
              "3    Yelena  Entire place   86.0  4.763203  40.79169   -73.97498   \n",
              "4    Brooke  Private room  160.0  3.822591  40.71884   -73.98354   \n",
              "\n",
              "   sudah_dinilai  \n",
              "0              1  \n",
              "1              1  \n",
              "2              0  \n",
              "3              1  \n",
              "4              1  "
            ]
          },
          "execution_count": 75,
          "metadata": {},
          "output_type": "execute_result"
        }
      ],
      "source": [
        "# Tampilkan data\n",
        "data.head()"
      ]
    }
  ],
  "metadata": {
    "colab": {
      "name": "TTS_NIM.ipynb",
      "provenance": []
    },
    "kernelspec": {
      "display_name": "Python 3",
      "name": "python3"
    },
    "language_info": {
      "codemirror_mode": {
        "name": "ipython",
        "version": 3
      },
      "file_extension": ".py",
      "mimetype": "text/x-python",
      "name": "python",
      "nbconvert_exporter": "python",
      "pygments_lexer": "ipython3",
      "version": "3.10.2"
    }
  },
  "nbformat": 4,
  "nbformat_minor": 0
}
